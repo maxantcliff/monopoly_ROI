{
 "cells": [
  {
   "cell_type": "markdown",
   "metadata": {},
   "source": [
    "# Simulating Monopoly\n",
    "\n",
    "In this project I to model the board game Monopoly eventually calculate with which squares / properties have the highest expected return on investment (ROI) - the cost of purchasing the property and houses vs. expected income from owning.\n",
    "\n",
    "I do this differently to the other attempts I have come across in that I choose to model a **large number of games consisting of a realistic number of goes**, rather than a **one game of a large number of goes** - the distinction is subtle but important, as outlined further below. \n",
    "\n",
    "This consists of first modelling the behviour of two dice, then a simple game to which I then incorporate jail and the decks of cards. I input the rents associated with each square using a webscrape and then calculate the ROIs. (I'll save the highly-anticipated answer for the end)\n",
    "\n",
    "\n",
    "For those that are unfamiliar, this is a Monopoly board:\n",
    "\n",
    "<img src=\"monopoly_board.jpg\" style=\"width:200px;height:200px\"/>"
   ]
  },
  {
   "cell_type": "markdown",
   "metadata": {},
   "source": [
    "# Setting up the dice\n",
    "Define a function that will roll two dice:"
   ]
  },
  {
   "cell_type": "code",
   "execution_count": 2,
   "metadata": {},
   "outputs": [],
   "source": [
    "import random\n",
    "random.seed(1)\n",
    "import pandas as pd\n",
    "import numpy as np\n",
    "import matplotlib.pyplot as plt\n",
    "import seaborn\n",
    "import requests\n",
    "import lxml.html as lh\n",
    "pd.options.mode.chained_assignment = None"
   ]
  },
  {
   "cell_type": "code",
   "execution_count": 3,
   "metadata": {},
   "outputs": [],
   "source": [
    "def roll2dice():\n",
    "    roll1=random.randint(1,6)\n",
    "    roll2=random.randint(1,6)\n",
    "    return roll1, roll2"
   ]
  },
  {
   "cell_type": "markdown",
   "metadata": {},
   "source": [
    "Function for histogram of results:"
   ]
  },
  {
   "cell_type": "code",
   "execution_count": 4,
   "metadata": {},
   "outputs": [],
   "source": [
    "def diceplot(x,y):\n",
    "    plt.style.use('seaborn-pastel')\n",
    "    plt.bar(x,y)\n",
    "    plt.xticks(np.arange(2, len(counters)+1, 1.0))\n",
    "    plt.xlabel('Value of 2 dice')\n",
    "    plt.ylabel('Probability')\n",
    "    plt.title('Probability distribution of summed values of two dice')"
   ]
  },
  {
   "cell_type": "code",
   "execution_count": 5,
   "metadata": {},
   "outputs": [],
   "source": [
    "# Create array to store frequency / probability of each value\n",
    "counters=np.zeros([12],float)\n",
    "rolls=0\n",
    "max_rolls=1000000\n",
    "while rolls < max_rolls:\n",
    "    roll1,roll2=roll2dice()\n",
    "    total=roll1+roll2\n",
    "    counters[total-1]+=1\n",
    "    rolls+=1\n",
    "for i in range(len(counters)):\n",
    "    counters[i]=counters[i]/max_rolls"
   ]
  },
  {
   "cell_type": "code",
   "execution_count": 6,
   "metadata": {},
   "outputs": [
    {
     "data": {
      "image/png": "[encoded data removed]",
      "text/plain": [
       "<Figure size 432x288 with 1 Axes>"
      ]
     },
     "metadata": {
      "needs_background": "light"
     },
     "output_type": "display_data"
    }
   ],
   "source": [
    "diceplot(range(1,len(counters)+1),counters)"
   ]
  },
  {
   "cell_type": "markdown",
   "metadata": {},
   "source": [
    "# Monopoly game\n",
    "Having set out mechanisms for dice, can start to model a simple monopoly game.\n",
    "\n",
    "First, ellaborate on the dice function to replicate what happens in monopoly: if player rolls a double, you move forward the combined sum from the first roll and roll again. If this second roll is also a double,  player moves forward and rolls for a third time. If this third roll is also a double, however, the player goes to jail."
   ]
  },
  {
   "cell_type": "code",
   "execution_count": 7,
   "metadata": {},
   "outputs": [],
   "source": [
    "def doublecheck(roll1,roll2):\n",
    "    double_check=0\n",
    "    if roll1==roll2:\n",
    "        double_check=1\n",
    "    else:\n",
    "        double_check=0\n",
    "    return double_check"
   ]
  },
  {
   "cell_type": "markdown",
   "metadata": {},
   "source": [
    "Out of interest, what is the probability of going to jail in this way?"
   ]
  },
  {
   "cell_type": "code",
   "execution_count": 8,
   "metadata": {},
   "outputs": [
    {
     "name": "stdout",
     "output_type": "stream",
     "text": [
      "Probability of getting a triple is 0.463%\n",
      "36 instances of rolling 3 doubles in a row after rolling two dice 10000 times\n"
     ]
    }
   ],
   "source": [
    "max_rolls=10000\n",
    "rolls=0\n",
    "doublecounter=0\n",
    "triplecounter=0\n",
    "while rolls<max_rolls:\n",
    "    roll1,roll2=roll2dice()\n",
    "    double_check=doublecheck(roll1,roll2)\n",
    "    if double_check==1:\n",
    "        doublecounter+=1\n",
    "    else:\n",
    "        doublecounter=0\n",
    "    #print(roll1,roll2,doublecounter)\n",
    "    if doublecounter==3:\n",
    "        triplecounter+=1\n",
    "        doublecounter=0\n",
    "    rolls+=1\n",
    "x =(1/6)**3 # ===> probability of a double is 1/6 x 1/6 x 6\n",
    "print(\"Probability of getting a triple is \"+\"{:.3%}\".format(x))\n",
    "print(\"%d instances of rolling 3 doubles in a row after rolling two dice %d times\" %(triplecounter,max_rolls))"
   ]
  },
  {
   "cell_type": "markdown",
   "metadata": {},
   "source": [
    "# Basic, board only Monopoly game:"
   ]
  },
  {
   "cell_type": "markdown",
   "metadata": {},
   "source": [
    "Function to plot the distribution:"
   ]
  },
  {
   "cell_type": "code",
   "execution_count": 8,
   "metadata": {},
   "outputs": [],
   "source": [
    "def monplot(x,y,n_goes_string,n_squares):\n",
    "    plt.style.use('seaborn-pastel')\n",
    "    plt.bar(x,y)\n",
    "    plt.xticks(np.arange(min(n_squares), max(n_squares)+1, 2.0))\n",
    "    plt.xlabel('Monopoly board square')\n",
    "    plt.ylabel('Probability of landing on square')\n",
    "    plt.title('Probability distribution of the monopoly board after ' +n_goes_string+' goes',size=14)"
   ]
  },
  {
   "cell_type": "code",
   "execution_count": 9,
   "metadata": {},
   "outputs": [],
   "source": [
    "def basic_play(n_goes):\n",
    "    n_goes=n_goes\n",
    "    n_goes_string= '{:,}'.format(n_goes)\n",
    "    nsquares=40\n",
    "    board_counters=np.zeros([nsquares],float)\n",
    "    currentposition=0\n",
    "    roll=0\n",
    "    while roll < n_goes:\n",
    "        double_check=0\n",
    "        roll1,roll2=roll2dice()\n",
    "        total=roll1+roll2\n",
    "        #print(roll1,roll2)\n",
    "        double_check=doublecheck(roll1,roll2)\n",
    "        if double_check==1:\n",
    "            roll1,roll2=roll2dice()\n",
    "            total+=roll1+roll2\n",
    "            #print(roll1,roll2)\n",
    "        else:\n",
    "            pass\n",
    "        currentposition=(currentposition+total)%nsquares\n",
    "        #print(currentposition)\n",
    "        board_counters[currentposition]+=1\n",
    "        roll+=1\n",
    "    for i in range(len(board_counters)):\n",
    "        board_counters[i]=board_counters[i]/n_goes\n",
    "    index=list(range(len(board_counters)))\n",
    "    probs=pd.DataFrame({'Probability':board_counters}, index=index)\n",
    "    monplot(probs.index,probs.Probability,n_goes_string,index)"
   ]
  },
  {
   "cell_type": "markdown",
   "metadata": {},
   "source": [
    "# Incorporating a jail\n",
    "Define some functions to describe how one goes to and escapes from jail. Rolling three doubles or landing on the 'go to jail' square (square 30) will send you to jail (note that jail itself is located on square 10)."
   ]
  },
  {
   "cell_type": "code",
   "execution_count": 10,
   "metadata": {},
   "outputs": [],
   "source": [
    "def jailcheck(currentposition,doublecount):\n",
    "    in_jail=0\n",
    "    if currentposition==30 or doublecount==3:\n",
    "        in_jail=1\n",
    "        currentposition=10\n",
    "        #print(\"You are in jail!\")\n",
    "    else:\n",
    "        currentposition=currentposition\n",
    "    return currentposition, in_jail"
   ]
  },
  {
   "cell_type": "code",
   "execution_count": 11,
   "metadata": {},
   "outputs": [],
   "source": [
    "def doubles_play(currentposition):\n",
    "    roll1,roll2=roll2dice()\n",
    "    #print(roll1,roll2)\n",
    "    double_check=doublecheck(roll1,roll2)\n",
    "    doublecount=0\n",
    "    currentposition=(currentposition+roll1+roll2)%nsquares\n",
    "    #print(currentposition)\n",
    "    if double_check==1:\n",
    "        doublecount+=1\n",
    "        while double_check==1 and doublecount <3:\n",
    "            roll1,roll2=roll2dice()\n",
    "            #print(roll1,roll2)\n",
    "            double_check=doublecheck(roll1,roll2)\n",
    "            currentposition = (currentposition+roll1+roll2)%nsquares\n",
    "            if double_check==1:\n",
    "                doublecount+=1\n",
    "            else:\n",
    "                pass\n",
    "        else:\n",
    "            pass\n",
    "    currentposition, in_jail=jailcheck(currentposition,doublecount)\n",
    "    #print(currentposition)\n",
    "    return currentposition, in_jail"
   ]
  },
  {
   "cell_type": "markdown",
   "metadata": {},
   "source": [
    "To escape from jail a player must either roll a double or wait for three turns. If a player escapes jail early by rolling a double on one of the three turns they spend in jail, they advance as if they had rolled that double. "
   ]
  },
  {
   "cell_type": "code",
   "execution_count": 12,
   "metadata": {},
   "outputs": [],
   "source": [
    "def escape_jail(currentposition,in_jail):\n",
    "    turnsinjail=1\n",
    "    if in_jail==1:\n",
    "        while turnsinjail < 4 and in_jail==1:\n",
    "            roll1,roll2=roll2dice()\n",
    "           #print(roll1,roll2)\n",
    "            double_check=doublecheck(roll1,roll2)\n",
    "            if double_check==1:\n",
    "                in_jail=0\n",
    "                currentposition=10+roll1+roll2\n",
    "            else:\n",
    "                turnsinjail+=1\n",
    "        else:\n",
    "            if in_jail==1:\n",
    "                in_jail=0\n",
    "                roll1,roll2=roll2dice()\n",
    "                #print(roll1,roll2)\n",
    "                currentposition=(10+roll1+roll2)%nsquares\n",
    "    else:\n",
    "        currentposition=currentposition\n",
    "    return currentposition , turnsinjail , in_jail"
   ]
  },
  {
   "cell_type": "markdown",
   "metadata": {},
   "source": [
    "Now test the mechanics (unsilence the print functions in the above functions before doing so):"
   ]
  },
  {
   "cell_type": "code",
   "execution_count": 248,
   "metadata": {},
   "outputs": [],
   "source": [
    "nsquares=40"
   ]
  },
  {
   "cell_type": "code",
   "execution_count": 746,
   "metadata": {},
   "outputs": [
    {
     "name": "stdout",
     "output_type": "stream",
     "text": [
      "=>Turn number 1\n",
      "6 6\n",
      "12\n",
      "2 2\n",
      "1 3\n",
      "20\n",
      "Currentposition is 20\n",
      "=>Turn number 2\n",
      "6 6\n",
      "32\n",
      "2 1\n",
      "35\n",
      "Currentposition is 35\n",
      "=>Turn number 3\n",
      "3 1\n",
      "39\n",
      "39\n",
      "Currentposition is 39\n",
      "=>Turn number 4\n",
      "1 2\n",
      "2\n",
      "2\n",
      "Currentposition is 2\n",
      "=>Turn number 5\n",
      "5 5\n",
      "12\n",
      "4 1\n",
      "17\n",
      "Currentposition is 17\n",
      "=>Turn number 6\n",
      "5 4\n",
      "26\n",
      "26\n",
      "Currentposition is 26\n",
      "=>Turn number 7\n",
      "1 5\n",
      "32\n",
      "32\n",
      "Currentposition is 32\n",
      "=>Turn number 8\n",
      "4 1\n",
      "37\n",
      "37\n",
      "Currentposition is 37\n",
      "=>Turn number 9\n",
      "3 5\n",
      "5\n",
      "5\n",
      "Currentposition is 5\n"
     ]
    }
   ],
   "source": [
    "currentposition=0\n",
    "turns=1\n",
    "while turns<10:\n",
    "    print(\"=>Turn number %d\"%(turns))\n",
    "    currentposition, in_jail=doubles_play(currentposition)\n",
    "    currentposition=currentposition%nsquares\n",
    "    print(\"Currentposition is %d\"%(currentposition))\n",
    "    if in_jail ==1:\n",
    "        currentposition,turnsinjail, in_jail=escape_jail(currentposition, in_jail)  \n",
    "        currentposition=currentposition%nsquares\n",
    "        print(\"Currentposition is %d\"%(currentposition))\n",
    "        print(\"Spent %d turns in jail\"%(turnsinjail-1))\n",
    "        turns+=1+turnsinjail\n",
    "    else:\n",
    "        turns+=1"
   ]
  },
  {
   "cell_type": "code",
   "execution_count": 13,
   "metadata": {},
   "outputs": [],
   "source": [
    "def basic_plusjail_play(n_goes):\n",
    "    n_goes=n_goes\n",
    "    n_goes_string= '{:,}'.format(n_goes)\n",
    "    nsquares=40\n",
    "    board_counters=np.zeros([nsquares],float)\n",
    "    currentposition=0\n",
    "    turns=1\n",
    "    while turns<n_goes:\n",
    "#       print(\"=>Turn number %d\"%(turns))\n",
    "        currentposition, in_jail=doubles_play(currentposition)\n",
    "        currentposition=currentposition%nsquares\n",
    "#       print(\"Currentposition is %d\"%(currentposition))\n",
    "        board_counters[currentposition]+=1\n",
    "        if in_jail ==1:\n",
    "            currentposition,turnsinjail , in_jail =escape_jail(currentposition, in_jail)\n",
    "            currentposition=currentposition%nsquares\n",
    "            board_counters[currentposition]+=1\n",
    "#           print(\"Currentposition is %d\"%(currentposition))\n",
    "#           print(\"Spent %d turns in jail\"%(turnsinjail-1))\n",
    "            turns+=1+turnsinjail\n",
    "        else:\n",
    "            turns+=1\n",
    "    for i in range(len(board_counters)):\n",
    "        board_counters[i]=board_counters[i]/n_goes\n",
    "    index=list(range(len(board_counters)))\n",
    "    probs=pd.DataFrame({'Probability':board_counters}, index=index)\n",
    "    monplot(probs.index,probs.Probability,n_goes_string,index)"
   ]
  },
  {
   "cell_type": "markdown",
   "metadata": {},
   "source": [
    "# Incorporating decks of cards\n",
    "Add the chance and community chest card decks"
   ]
  },
  {
   "cell_type": "code",
   "execution_count": 14,
   "metadata": {},
   "outputs": [],
   "source": [
    "# A class to describe a deck of cards\n",
    "class Deck:\n",
    "    def __init__(self, ncards, results):\n",
    "        self.ncards = ncards\n",
    "        # cards start without function\n",
    "        self.cards = [ None ]*self.ncards\n",
    "        # Check if the number of results is within range\n",
    "        nresults = len(results)\n",
    "        self.nresults=nresults\n",
    "        assert nresults <= self.ncards, \"Error: to many card types for number of cards.\"\n",
    "        #Assign the results to the deck of cards. If there are more cards than there \n",
    "        # are results, assignment happens on rolling basis\n",
    "        for i in range(ncards):\n",
    "            self.cards[i] = results[i%nresults]\n",
    "        # Set the next card to be drawn\n",
    "        self.nextCard = 0\n",
    "\n",
    "    def shuffle(self):\n",
    "        random.shuffle(self.cards)\n",
    "        \n",
    "    def draw(self):\n",
    "        card = self.cards[self.nextCard]\n",
    "        self.nextCard = self.nextCard + 1\n",
    "        if self.nextCard >= self.ncards:\n",
    "            self.nextCard = 0\n",
    "        return card"
   ]
  },
  {
   "cell_type": "markdown",
   "metadata": {},
   "source": [
    "### The chance cards:\n",
    "On spaces 7, 22 and 36 a player must pick up a chance card. I only model the definitive movement-based ones here - there are [other cards](https://monopoly.fandom.com/wiki/Chance) which involve picking up money or moving to a utility that the player owns - I include some blank actions to mitigate this effect (the logic behind the two digit format becomes clear further along)."
   ]
  },
  {
   "cell_type": "code",
   "execution_count": 15,
   "metadata": {},
   "outputs": [],
   "source": [
    "chance_spaces=[7,22,36]\n",
    "chance_results=[]\n",
    "# First number multiplies current position, second is an addition - so multiply by zero if want to input an absolute position\n",
    "chance_results += [ (0, 0) ] # GO\n",
    "chance_results += [ (0, 11) ] # Pall Mall\n",
    "chance_results += [ (0, 30) ] # Jail\n",
    "chance_results += [ (0, 15) ] # Marylebone Station\n",
    "chance_results += [ (0, 39) ] # Mayfair\n",
    "chance_results += [ (0, 24) ] # Trafalgar square\n",
    "chance_results += [ (1,-3)] # go back three spaces\n",
    "chance_results +=[(1,0)]*6 # Resemble non-movement cards\n",
    "chance_deck=Deck(len(chance_results)*4,chance_results) # Arbitrarily assign there to be 21 cards"
   ]
  },
  {
   "cell_type": "markdown",
   "metadata": {},
   "source": [
    "### Community chest cards:\n",
    "Pick up one of these on spaces 2, 17 and 33. Again, only model the movement-based ones here. "
   ]
  },
  {
   "cell_type": "code",
   "execution_count": 16,
   "metadata": {},
   "outputs": [],
   "source": [
    "communitychest_spaces=[2,17,33]\n",
    "communitychest_results=[]\n",
    "communitychest_results += [ (0, 0) ] # GO\n",
    "communitychest_results += [ (0, 30) ] # Jail\n",
    "communitychest_results +=[(1,0)]*10 # Resemble non-movement cards\n",
    "communitychest_deck=Deck(len(communitychest_results)*4,communitychest_results)"
   ]
  },
  {
   "cell_type": "markdown",
   "metadata": {},
   "source": [
    "Function to incorporate into game - the two digit format is so there is a multiplying number (mult) and an addition one (add) - to allow for both absolute and relative movement commands:"
   ]
  },
  {
   "cell_type": "code",
   "execution_count": 17,
   "metadata": {},
   "outputs": [],
   "source": [
    "def cardcheck(currentposition,in_jail):\n",
    "    if currentposition in chance_spaces:\n",
    "        mult,add=chance_deck.draw()\n",
    "       #print(\"***chance card drawn***\")\n",
    "       #print(mult,add)\n",
    "        currentposition=currentposition*mult\n",
    "        currentposition+=add\n",
    "        if currentposition==30:\n",
    "            in_jail=1\n",
    "            currentposition=10\n",
    "    if currentposition in communitychest_spaces:\n",
    "        mult,add=communitychest_deck.draw()\n",
    "       #print(\"***community chest card drawn***\")\n",
    "       #print(mult,add)\n",
    "        currentposition=currentposition*mult\n",
    "        currentposition+=add\n",
    "        if currentposition==30:\n",
    "            in_jail=1\n",
    "            currentposition=10\n",
    "    else:\n",
    "        currentposition=currentposition\n",
    "        in_jail=in_jail\n",
    "    return currentposition, in_jail"
   ]
  },
  {
   "cell_type": "markdown",
   "metadata": {},
   "source": [
    "I need to change the jail condition to a while statement since it is possible to pick up a card that puts you straight back into jail now. Test that it functions as intended by silencing all but the go to jail cards with printing below:"
   ]
  },
  {
   "cell_type": "code",
   "execution_count": 787,
   "metadata": {},
   "outputs": [
    {
     "name": "stdout",
     "output_type": "stream",
     "text": [
      "=>Turn number 1\n",
      "4 1\n",
      "5\n",
      "5\n",
      "-Currentposition is 5\n",
      "=>Turn number 2\n",
      "3 1\n",
      "9\n",
      "9\n",
      "-Currentposition is 9\n",
      "=>Turn number 3\n",
      "1 4\n",
      "14\n",
      "14\n",
      "-Currentposition is 14\n",
      "=>Turn number 4\n",
      "4 5\n",
      "23\n",
      "23\n",
      "-Currentposition is 23\n",
      "=>Turn number 5\n",
      "1 3\n",
      "27\n",
      "27\n",
      "-Currentposition is 27\n",
      "=>Turn number 6\n",
      "4 2\n",
      "33\n",
      "33\n",
      "***community chest card drawn***\n",
      "0 30\n",
      "-Currentposition is 10\n",
      "2 3\n",
      "6 2\n",
      "3 2\n",
      "4 3\n",
      "Spent 3 turns in jail\n",
      "***community chest card drawn***\n",
      "0 30\n",
      "-Currentposition is 10\n",
      "2 1\n",
      "2 2\n",
      "Spent 1 turns in jail\n",
      "-Currentposition is 14\n"
     ]
    }
   ],
   "source": [
    "currentposition=0\n",
    "turns=1\n",
    "while turns<10:\n",
    "    print(\"=>Turn number %d\"%(turns))\n",
    "    currentposition, in_jail=doubles_play(currentposition)\n",
    "    currentposition=currentposition%nsquares\n",
    "    currentposition, in_jail=cardcheck(currentposition,in_jail)\n",
    "    print(\"-Currentposition is %d\"%(currentposition))\n",
    "    while in_jail ==1:\n",
    "        turnsinjail=0\n",
    "        currentposition,turnsinjail,in_jail=escape_jail(currentposition, in_jail)  \n",
    "        currentposition=currentposition%nsquares\n",
    "        print(\"Spent %d turns in jail\"%(turnsinjail-1))\n",
    "        turns+=1+turnsinjail\n",
    "        currentposition, in_jail=cardcheck(currentposition,in_jail)\n",
    "        print(\"-Currentposition is %d\"%(currentposition))\n",
    "    else:\n",
    "        turns+=1"
   ]
  },
  {
   "cell_type": "code",
   "execution_count": 18,
   "metadata": {},
   "outputs": [],
   "source": [
    "def basic_plusjail_pluscards_play(n_goes):\n",
    "    n_goes=n_goes\n",
    "    n_goes_string= '{:,}'.format(n_goes)\n",
    "    nsquares=40\n",
    "    board_counters=np.zeros([nsquares],float)\n",
    "    currentposition=0\n",
    "    turns=1\n",
    "    chance_deck.shuffle()\n",
    "    communitychest_deck.shuffle()\n",
    "    while turns<n_goes:\n",
    "        currentposition, in_jail=doubles_play(currentposition)\n",
    "        currentposition=currentposition%nsquares\n",
    "        currentposition, in_jail=cardcheck(currentposition,in_jail)\n",
    "        board_counters[currentposition]+=1\n",
    "        while in_jail ==1:\n",
    "            turnsinjail=0\n",
    "            currentposition,turnsinjail,in_jail=escape_jail(currentposition, in_jail)  \n",
    "            currentposition=currentposition%nsquares\n",
    "            turns+=1+turnsinjail\n",
    "            currentposition, in_jail=cardcheck(currentposition,in_jail)\n",
    "            board_counters[currentposition]+=1\n",
    "        else:\n",
    "            turns+=1        \n",
    "    for i in range(len(board_counters)):\n",
    "        board_counters[i]=board_counters[i]/n_goes\n",
    "    index=list(range(len(board_counters)))\n",
    "    probs=pd.DataFrame({'Probability':board_counters}, index=index)\n",
    "    monplot(probs.index,probs.Probability,n_goes_string,index)"
   ]
  },
  {
   "cell_type": "markdown",
   "metadata": {},
   "source": [
    "# Graphing up\n",
    "\n",
    "See how the probability distributions of the three games defined shape up:"
   ]
  },
  {
   "cell_type": "code",
   "execution_count": 453,
   "metadata": {
    "scrolled": true
   },
   "outputs": [
    {
     "data": {
      "image/png": "[encoded data removed]",
      "text/plain": [
       "<Figure size 432x288 with 1 Axes>"
      ]
     },
     "metadata": {
      "needs_background": "light"
     },
     "output_type": "display_data"
    }
   ],
   "source": [
    "basic_play(100)"
   ]
  },
  {
   "cell_type": "code",
   "execution_count": 799,
   "metadata": {},
   "outputs": [
    {
     "data": {
      "image/png": "[encoded data removed]",
      "text/plain": [
       "<Figure size 432x288 with 1 Axes>"
      ]
     },
     "metadata": {
      "needs_background": "light"
     },
     "output_type": "display_data"
    }
   ],
   "source": [
    "basic_plusjail_play(100)"
   ]
  },
  {
   "cell_type": "code",
   "execution_count": 1420,
   "metadata": {},
   "outputs": [
    {
     "data": {
      "image/png": "[encoded data removed]",
      "text/plain": [
       "<Figure size 432x288 with 1 Axes>"
      ]
     },
     "metadata": {
      "needs_background": "light"
     },
     "output_type": "display_data"
    }
   ],
   "source": [
    "basic_plusjail_pluscards_play(100)"
   ]
  },
  {
   "cell_type": "markdown",
   "metadata": {},
   "source": [
    "When limiting to a small number of goes, the distribution is fairly random.\n",
    "\n",
    "##### Increasing the number of goes dramatically:"
   ]
  },
  {
   "cell_type": "code",
   "execution_count": 456,
   "metadata": {
    "scrolled": true
   },
   "outputs": [
    {
     "data": {
      "image/png": "[encoded data removed]",
      "text/plain": [
       "<Figure size 432x288 with 1 Axes>"
      ]
     },
     "metadata": {
      "needs_background": "light"
     },
     "output_type": "display_data"
    }
   ],
   "source": [
    "basic_play(10000000)"
   ]
  },
  {
   "cell_type": "markdown",
   "metadata": {},
   "source": [
    "As n_goes increases, the probability of landing on a given square equalises. This would be expected since when the number of goes is small, you would expect a distribution that is some function of the first distribution I plot of the summed value of two dice, anchored by the starting point. When the number of goes increases significantly the effect of this anchor diminishes."
   ]
  },
  {
   "cell_type": "code",
   "execution_count": 455,
   "metadata": {},
   "outputs": [
    {
     "data": {
      "image/png": "[encoded data removed]",
      "text/plain": [
       "<Figure size 432x288 with 1 Axes>"
      ]
     },
     "metadata": {
      "needs_background": "light"
     },
     "output_type": "display_data"
    }
   ],
   "source": [
    "basic_plusjail_play(10000000)"
   ]
  },
  {
   "cell_type": "markdown",
   "metadata": {},
   "source": [
    "Again, the intuitive result - since you move to jail (square 10) immediately upon landing on square 30, it follows that square 30 has a 0 chance of being 'landed' on, and square 10 at least twice the chance of the other squares since there are (dice aside) two ways of arriving there. There is then a more lumpy distribution on the squares after jail due to the anchoring effect."
   ]
  },
  {
   "cell_type": "code",
   "execution_count": 1421,
   "metadata": {},
   "outputs": [
    {
     "data": {
      "image/png": "[encoded data removed]",
      "text/plain": [
       "<Figure size 432x288 with 1 Axes>"
      ]
     },
     "metadata": {
      "needs_background": "light"
     },
     "output_type": "display_data"
    }
   ],
   "source": [
    "basic_plusjail_pluscards_play(10000000)"
   ]
  },
  {
   "cell_type": "markdown",
   "metadata": {},
   "source": [
    "With the deck of cards, we see some similar effects to when jail was introduced: 30 has $p = 0$, 10 now has a higher probability than before (since some of the cards send the player to jail), and the chance / community chest card squares have lower probabilities since several of the cards available to pick up send the player elsewhere.  "
   ]
  },
  {
   "cell_type": "markdown",
   "metadata": {},
   "source": [
    "# Methodology comment\n",
    "Most of the scripts I came across online use this method of modelling 1 game over a large number of goes to get a probability distribution. In my mind the problem with this is that as n_goes increases, the probability of landing on a given square equalises (as shown above) - an effect that isn't true of the typical game involving c. 30-40 goes per player. As can be seen from the above graphs, this is most acute when there is a board only. \n",
    "\n",
    "A more representative distribution of the probabilities would model a very large number of games each involving a realistic number of goes. I attempt to make this change below.\n",
    "\n",
    "# Probability distribution method II\n",
    "Alter the function slightly to return the probability array:"
   ]
  },
  {
   "cell_type": "code",
   "execution_count": 90,
   "metadata": {},
   "outputs": [],
   "source": [
    "def basic_plusjail_pluscards_play2(n_goes,game):\n",
    "    n_goes=n_goes\n",
    "    n_goes_string= '{:,}'.format(n_goes)\n",
    "    nsquares=40\n",
    "    board_counters=np.zeros([nsquares],float)\n",
    "    currentposition=0\n",
    "    turns=1\n",
    "    chance_deck.shuffle()\n",
    "    communitychest_deck.shuffle()\n",
    "    while turns<n_goes:\n",
    "        currentposition, in_jail=doubles_play(currentposition)\n",
    "        currentposition=currentposition%nsquares\n",
    "        currentposition, in_jail=cardcheck(currentposition,in_jail)\n",
    "        board_counters[currentposition]+=1\n",
    "        while in_jail ==1:\n",
    "            turnsinjail=0\n",
    "            currentposition,turnsinjail,in_jail=escape_jail(currentposition, in_jail)  \n",
    "            currentposition=currentposition%nsquares\n",
    "            turns+=1+turnsinjail\n",
    "            currentposition, in_jail=cardcheck(currentposition,in_jail)\n",
    "            board_counters[currentposition]+=1\n",
    "        else:\n",
    "            turns+=1        \n",
    "    for i in range(len(board_counters)):\n",
    "        board_counters[i]=board_counters[i]/n_goes\n",
    "    index=list(range(len(board_counters)))\n",
    "    probs=pd.DataFrame({game:board_counters}, index=index)\n",
    "    return probs"
   ]
  },
  {
   "cell_type": "code",
   "execution_count": 20,
   "metadata": {},
   "outputs": [],
   "source": [
    "def monplot2(x,y,n_games_string,n_squares,n_goes):\n",
    "    plt.style.use('seaborn-pastel')\n",
    "    plt.bar(x,y)\n",
    "    plt.xticks(np.arange(min(n_squares), max(n_squares)+1, 2.0))\n",
    "    plt.xlabel('Monopoly board square')\n",
    "    plt.ylabel('Probability of landing on square')\n",
    "    plt.title('Probability distribution of the monopoly board after ' +n_games_string+' games of %d goes'%(n_goes),size=14)"
   ]
  },
  {
   "cell_type": "markdown",
   "metadata": {},
   "source": [
    "A turn is decided to be when the individual has their go to roll the dice and has arrived at their destination. When introducing jail, the number of turns $\\neq$ sum of board counters (pre-scaling) because of the turns used as attempts to get out of jail. This is fine, but I scale the probabilities in the below to the sum of them so that the decimals easily corresond to a % probability."
   ]
  },
  {
   "cell_type": "code",
   "execution_count": 118,
   "metadata": {
    "scrolled": true
   },
   "outputs": [
    {
     "name": "stdout",
     "output_type": "stream",
     "text": [
      "0.8721317250005678\n",
      "0.9999999999999998\n"
     ]
    },
    {
     "data": {
      "image/png": "[encoded data removed]",
      "text/plain": [
       "<Figure size 432x288 with 1 Axes>"
      ]
     },
     "metadata": {
      "needs_background": "light"
     },
     "output_type": "display_data"
    }
   ],
   "source": [
    "probs_data=pd.DataFrame({'totalG':(np.zeros([40],float))},index=list(range(40)))\n",
    "n_goes=40\n",
    "games=1000000\n",
    "nsquares=40\n",
    "n_games_string= '{:,}'.format(games)\n",
    "for game in range(games):\n",
    "    temp_hold=basic_plusjail_pluscards_play2(n_goes,game)\n",
    "    probs_data.totalG+=temp_hold[game]\n",
    "probs_data['Mean']=probs_data.totalG/(games)\n",
    "print(sum(probs_data.Mean))\n",
    "probs_data['Mean_adj']=probs_data.Mean/sum(probs_data.Mean)\n",
    "print(sum(probs_data.Mean_adj))\n",
    "monplot2(probs_data.index,probs_data.Mean_adj,n_games_string,probs_data.index,n_goes)"
   ]
  },
  {
   "cell_type": "markdown",
   "metadata": {},
   "source": [
    "# Economics\n",
    "Now that we have an (approximate) probability distribution for the board, the expected ROIs of each property / utility can be calculated. \n",
    "\n",
    "First, a list of the monopoly board squares with their respective acquisition costs:"
   ]
  },
  {
   "cell_type": "code",
   "execution_count": 167,
   "metadata": {},
   "outputs": [],
   "source": [
    "costs_dict={\"Go\":0,\"Old Kent Road\":60,\"Community Chest 1\":0, \"Whitechapel Road\": 60, \"Income Tax\":0,\"King's Cross Station\":200, \n",
    "             \"The Angel Islington\":100, \"Chance 1\":0 , \"Euston Road\":100 , \"Pentonville Road\":120 , \"Jail\":0 , \"Pall Mall\":140,\n",
    "            \"Electric Company\":150,\"Whitehall\":140 , \"Northumberland Avenue\":160, \"Marylebone Station\":200, \"Bow Street\":180,\n",
    "            \"Community Chest 2\":0,\"Marlborough Street\":180 , \"Vine Street\":200, \"Free Parking\":0, \"The Strand\":220, \n",
    "            \"Chance 2\":0, \"Fleet Street\":220, \"Trafalgar Square\":240,\"Fenchurch St Station\":200, \"Leicester Square\":260,\n",
    "            \"Coventry Street\":260, \"Water Works\":150, \"Piccadilly\":280, \"Go To Jail\":0,\"Regent Street\":300, \"Oxford Street\":300,\n",
    "            \"Community Chest 3\":0, \"Bond Street\":320, \"Liverpool Street Station\":200, \"Chance 3\":0, \"Park Lane\":350,\n",
    "            \"Super Tax\":0, \"Mayfair\":400}\n",
    "costs_series=pd.Series(costs_dict)"
   ]
  },
  {
   "cell_type": "code",
   "execution_count": 168,
   "metadata": {},
   "outputs": [],
   "source": [
    "monopoly_economy=pd.DataFrame(index=list(range(40)))"
   ]
  },
  {
   "cell_type": "markdown",
   "metadata": {},
   "source": [
    "Rather than a probability distribution that is scaled (as used above), I am more interested in the expected number of times a square will be landed on in a game - i.e. remove the step that scales the probabilities so $\\sum Probabilities = 1$ by just using the 'Mean'."
   ]
  },
  {
   "cell_type": "code",
   "execution_count": 169,
   "metadata": {},
   "outputs": [],
   "source": [
    "monopoly_economy['Label']=costs_series.index\n",
    "monopoly_economy['Colour']=\"\"\n",
    "monopoly_economy['Probability']=probs_data.Mean\n",
    "monopoly_economy['Purchase']=costs_series.values\n",
    "monopoly_economy['House_cost']=\"\""
   ]
  },
  {
   "cell_type": "markdown",
   "metadata": {},
   "source": [
    "Then, set up a dataframe to store the info. The rents and board position costs are from [here](http://www.jdawiseman.com/papers/trivia/monopoly-rents.html). The cost of building a house varies by colour, so I assign the colours and then the appropriate house cost."
   ]
  },
  {
   "cell_type": "code",
   "execution_count": 170,
   "metadata": {},
   "outputs": [],
   "source": [
    "green=[31,32,34]\n",
    "darkblue=[37,39]\n",
    "brown=[1,3]\n",
    "lightblue=[6,8,9]\n",
    "pink=[11,13,14]\n",
    "orange=[16,18,19]\n",
    "red=[21,23,24]\n",
    "yellow=[26,27,29]"
   ]
  },
  {
   "cell_type": "code",
   "execution_count": 171,
   "metadata": {},
   "outputs": [],
   "source": [
    "for i in range(len(monopoly_economy)):\n",
    "    if i in green:\n",
    "        monopoly_economy.Colour[i]=\"Green\"\n",
    "        monopoly_economy.House_cost[i]=200\n",
    "    elif i in darkblue:\n",
    "        monopoly_economy.Colour[i]=\"Dark blue\"\n",
    "        monopoly_economy.House_cost[i]=200\n",
    "    elif i in brown:\n",
    "        monopoly_economy.Colour[i]=\"Brown\"\n",
    "        monopoly_economy.House_cost[i]=50\n",
    "    elif i in lightblue:\n",
    "        monopoly_economy.Colour[i]=\"Light blue\"\n",
    "        monopoly_economy.House_cost[i]=50\n",
    "    elif i in pink:\n",
    "        monopoly_economy.Colour[i]=\"Pink\"\n",
    "        monopoly_economy.House_cost[i]=100\n",
    "    elif i in orange:\n",
    "        monopoly_economy.Colour[i]=\"Orange\"\n",
    "        monopoly_economy.House_cost[i]=100\n",
    "    elif i in red:\n",
    "        monopoly_economy.Colour[i]=\"Red\"\n",
    "        monopoly_economy.House_cost[i]=150\n",
    "    elif i in yellow:\n",
    "        monopoly_economy.Colour[i]=\"Yellow\"\n",
    "        monopoly_economy.House_cost[i]=150\n",
    "    else:\n",
    "        monopoly_economy.House_cost[i]=\"\""
   ]
  },
  {
   "cell_type": "markdown",
   "metadata": {},
   "source": [
    "### Scrape for rent data\n",
    "In monopoly the marginal cost of a house is constant (i.e. remains == House_cost) and 5 houses = a hotel. The rents, however, do not increase linearly. So need to input the rents that can be charged - I scrape for a csv of these from the [same link as above](http://www.jdawiseman.com/papers/trivia/monopoly-rents.html)."
   ]
  },
  {
   "cell_type": "code",
   "execution_count": 172,
   "metadata": {},
   "outputs": [
    {
     "data": {
      "text/plain": [
       "[2, 2, 9, 9, 9, 4, 9, 9, 9, 9, 4, 9, 9, 4, 9, 9, 9, 9, 9, 9]"
      ]
     },
     "execution_count": 172,
     "metadata": {},
     "output_type": "execute_result"
    }
   ],
   "source": [
    "url='http://www.jdawiseman.com/papers/trivia/monopoly-rents.html'\n",
    "page = requests.get(url)\n",
    "doc = lh.fromstring(page.content)\n",
    "#Parse data that are stored between <tr>..</tr> of HTML\n",
    "tr_elements = doc.xpath('//tr')\n",
    "#Check the length of the first **12* rows\n",
    "[len(T) for T in tr_elements[:20]]"
   ]
  },
  {
   "cell_type": "markdown",
   "metadata": {},
   "source": [
    "I am only interested in getting the rows that correspond to properties - the rows with 9 columns."
   ]
  },
  {
   "cell_type": "code",
   "execution_count": 174,
   "metadata": {},
   "outputs": [],
   "source": [
    "col=[]\n",
    "i=0\n",
    "#List of headers:\n",
    "for t in tr_elements[2]:\n",
    "    i+=1\n",
    "    name=t.text_content()\n",
    "    #print('%d:\"%s\"'%(i,name))\n",
    "    col.append((name,[]))\n",
    "    \n",
    "for j in range(3,len(tr_elements)):\n",
    "    T=tr_elements[j]\n",
    "    \n",
    "    #If row is not of size 9 then is ignored \n",
    "    if len(T)!=9:\n",
    "        pass\n",
    "    else:\n",
    "        i=0\n",
    "        #Iterate through each element of the row\n",
    "        for t in T.iterchildren():\n",
    "            data=t.text_content() \n",
    "            #Check if row is empty\n",
    "            if i>0:\n",
    "            #Convert any numerical value to integers\n",
    "                try:\n",
    "                    data=int(data)\n",
    "                except:\n",
    "                    pass\n",
    "            #Append the data to the empty list of the i'th column\n",
    "            col[i][1].append(data)\n",
    "            #Increment i for the next column\n",
    "            i+=1"
   ]
  },
  {
   "cell_type": "code",
   "execution_count": 175,
   "metadata": {},
   "outputs": [],
   "source": [
    "monopoly_scrape_dict={title:column for (title,column) in col}\n",
    "monopoly_rents=pd.DataFrame(monopoly_scrape_dict)\n",
    "monopoly_rents = monopoly_rents.rename(columns={'1 hse': 'rent_1house', '2 hses': 'rent_2house' , '3 hses':'rent_3house', \n",
    "                                             '4 hses':'rent_4house','Hotel':'rent_5house'})"
   ]
  },
  {
   "cell_type": "code",
   "execution_count": 176,
   "metadata": {},
   "outputs": [
    {
     "data": {
      "text/html": [
       "<div>\n",
       "<style scoped>\n",
       "    .dataframe tbody tr th:only-of-type {\n",
       "        vertical-align: middle;\n",
       "    }\n",
       "\n",
       "    .dataframe tbody tr th {\n",
       "        vertical-align: top;\n",
       "    }\n",
       "\n",
       "    .dataframe thead th {\n",
       "        text-align: right;\n",
       "    }\n",
       "</style>\n",
       "<table border=\"1\" class=\"dataframe\">\n",
       "  <thead>\n",
       "    <tr style=\"text-align: right;\">\n",
       "      <th></th>\n",
       "      <th>Property</th>\n",
       "      <th>Cost</th>\n",
       "      <th>M’tg</th>\n",
       "      <th>Site</th>\n",
       "      <th>rent_1house</th>\n",
       "      <th>rent_2house</th>\n",
       "      <th>rent_3house</th>\n",
       "      <th>rent_4house</th>\n",
       "      <th>rent_5house</th>\n",
       "    </tr>\n",
       "  </thead>\n",
       "  <tbody>\n",
       "    <tr>\n",
       "      <th>0</th>\n",
       "      <td>Old Kent Road</td>\n",
       "      <td>60</td>\n",
       "      <td>30</td>\n",
       "      <td>2</td>\n",
       "      <td>10</td>\n",
       "      <td>30</td>\n",
       "      <td>90</td>\n",
       "      <td>160</td>\n",
       "      <td>250</td>\n",
       "    </tr>\n",
       "    <tr>\n",
       "      <th>1</th>\n",
       "      <td>Whitechapel Road</td>\n",
       "      <td>60</td>\n",
       "      <td>30</td>\n",
       "      <td>4</td>\n",
       "      <td>20</td>\n",
       "      <td>60</td>\n",
       "      <td>180</td>\n",
       "      <td>320</td>\n",
       "      <td>450</td>\n",
       "    </tr>\n",
       "    <tr>\n",
       "      <th>2</th>\n",
       "      <td>The Angel Islington</td>\n",
       "      <td>100</td>\n",
       "      <td>50</td>\n",
       "      <td>6</td>\n",
       "      <td>30</td>\n",
       "      <td>90</td>\n",
       "      <td>270</td>\n",
       "      <td>400</td>\n",
       "      <td>550</td>\n",
       "    </tr>\n",
       "    <tr>\n",
       "      <th>3</th>\n",
       "      <td>Euston Road</td>\n",
       "      <td>100</td>\n",
       "      <td>50</td>\n",
       "      <td>6</td>\n",
       "      <td>30</td>\n",
       "      <td>90</td>\n",
       "      <td>270</td>\n",
       "      <td>400</td>\n",
       "      <td>550</td>\n",
       "    </tr>\n",
       "    <tr>\n",
       "      <th>4</th>\n",
       "      <td>Pentonville Road</td>\n",
       "      <td>120</td>\n",
       "      <td>60</td>\n",
       "      <td>8</td>\n",
       "      <td>40</td>\n",
       "      <td>100</td>\n",
       "      <td>300</td>\n",
       "      <td>450</td>\n",
       "      <td>600</td>\n",
       "    </tr>\n",
       "  </tbody>\n",
       "</table>\n",
       "</div>"
      ],
      "text/plain": [
       "              Property  Cost  M’tg  Site  rent_1house  rent_2house  \\\n",
       "0        Old Kent Road    60    30     2           10           30   \n",
       "1     Whitechapel Road    60    30     4           20           60   \n",
       "2  The Angel Islington   100    50     6           30           90   \n",
       "3          Euston Road   100    50     6           30           90   \n",
       "4     Pentonville Road   120    60     8           40          100   \n",
       "\n",
       "   rent_3house  rent_4house  rent_5house  \n",
       "0           90          160          250  \n",
       "1          180          320          450  \n",
       "2          270          400          550  \n",
       "3          270          400          550  \n",
       "4          300          450          600  "
      ]
     },
     "execution_count": 176,
     "metadata": {},
     "output_type": "execute_result"
    }
   ],
   "source": [
    "monopoly_rents.head()"
   ]
  },
  {
   "cell_type": "code",
   "execution_count": 177,
   "metadata": {},
   "outputs": [],
   "source": [
    "#Add new columns to store the rent and ROI data\n",
    "new_cols=['rent_1house','rent_2house','rent_3house','rent_4house','rent_5house']\n",
    "for i in new_cols:\n",
    "    monopoly_economy[i]=0\n",
    "ROI_cols =['ROI_1house','ROI_2house','ROI_3house','ROI_4house','ROI_5house']\n",
    "for i in ROI_cols:\n",
    "    monopoly_economy[i]=0.0"
   ]
  },
  {
   "cell_type": "code",
   "execution_count": 178,
   "metadata": {},
   "outputs": [
    {
     "data": {
      "text/html": [
       "<div>\n",
       "<style scoped>\n",
       "    .dataframe tbody tr th:only-of-type {\n",
       "        vertical-align: middle;\n",
       "    }\n",
       "\n",
       "    .dataframe tbody tr th {\n",
       "        vertical-align: top;\n",
       "    }\n",
       "\n",
       "    .dataframe thead th {\n",
       "        text-align: right;\n",
       "    }\n",
       "</style>\n",
       "<table border=\"1\" class=\"dataframe\">\n",
       "  <thead>\n",
       "    <tr style=\"text-align: right;\">\n",
       "      <th></th>\n",
       "      <th>Label</th>\n",
       "      <th>Colour</th>\n",
       "      <th>Probability</th>\n",
       "      <th>Purchase</th>\n",
       "      <th>House_cost</th>\n",
       "      <th>rent_1house</th>\n",
       "      <th>rent_2house</th>\n",
       "      <th>rent_3house</th>\n",
       "      <th>rent_4house</th>\n",
       "      <th>rent_5house</th>\n",
       "      <th>ROI_1house</th>\n",
       "      <th>ROI_2house</th>\n",
       "      <th>ROI_3house</th>\n",
       "      <th>ROI_4house</th>\n",
       "      <th>ROI_5house</th>\n",
       "    </tr>\n",
       "  </thead>\n",
       "  <tbody>\n",
       "    <tr>\n",
       "      <th>0</th>\n",
       "      <td>Go</td>\n",
       "      <td></td>\n",
       "      <td>0.03</td>\n",
       "      <td>0</td>\n",
       "      <td></td>\n",
       "      <td>0</td>\n",
       "      <td>0</td>\n",
       "      <td>0</td>\n",
       "      <td>0</td>\n",
       "      <td>0</td>\n",
       "      <td>0.00</td>\n",
       "      <td>0.00</td>\n",
       "      <td>0.00</td>\n",
       "      <td>0.00</td>\n",
       "      <td>0.00</td>\n",
       "    </tr>\n",
       "    <tr>\n",
       "      <th>1</th>\n",
       "      <td>Old Kent Road</td>\n",
       "      <td>Brown</td>\n",
       "      <td>0.02</td>\n",
       "      <td>60</td>\n",
       "      <td>50</td>\n",
       "      <td>10</td>\n",
       "      <td>30</td>\n",
       "      <td>90</td>\n",
       "      <td>160</td>\n",
       "      <td>250</td>\n",
       "      <td>0.00</td>\n",
       "      <td>0.00</td>\n",
       "      <td>0.00</td>\n",
       "      <td>0.00</td>\n",
       "      <td>0.00</td>\n",
       "    </tr>\n",
       "    <tr>\n",
       "      <th>2</th>\n",
       "      <td>Community Chest 1</td>\n",
       "      <td></td>\n",
       "      <td>0.02</td>\n",
       "      <td>0</td>\n",
       "      <td></td>\n",
       "      <td>0</td>\n",
       "      <td>0</td>\n",
       "      <td>0</td>\n",
       "      <td>0</td>\n",
       "      <td>0</td>\n",
       "      <td>0.00</td>\n",
       "      <td>0.00</td>\n",
       "      <td>0.00</td>\n",
       "      <td>0.00</td>\n",
       "      <td>0.00</td>\n",
       "    </tr>\n",
       "    <tr>\n",
       "      <th>3</th>\n",
       "      <td>Whitechapel Road</td>\n",
       "      <td>Brown</td>\n",
       "      <td>0.02</td>\n",
       "      <td>60</td>\n",
       "      <td>50</td>\n",
       "      <td>20</td>\n",
       "      <td>60</td>\n",
       "      <td>180</td>\n",
       "      <td>320</td>\n",
       "      <td>450</td>\n",
       "      <td>0.00</td>\n",
       "      <td>0.00</td>\n",
       "      <td>0.00</td>\n",
       "      <td>0.00</td>\n",
       "      <td>0.00</td>\n",
       "    </tr>\n",
       "    <tr>\n",
       "      <th>4</th>\n",
       "      <td>Income Tax</td>\n",
       "      <td></td>\n",
       "      <td>0.02</td>\n",
       "      <td>0</td>\n",
       "      <td></td>\n",
       "      <td>0</td>\n",
       "      <td>0</td>\n",
       "      <td>0</td>\n",
       "      <td>0</td>\n",
       "      <td>0</td>\n",
       "      <td>0.00</td>\n",
       "      <td>0.00</td>\n",
       "      <td>0.00</td>\n",
       "      <td>0.00</td>\n",
       "      <td>0.00</td>\n",
       "    </tr>\n",
       "  </tbody>\n",
       "</table>\n",
       "</div>"
      ],
      "text/plain": [
       "               Label Colour  Probability  Purchase House_cost  rent_1house  \\\n",
       "0                 Go                0.03         0                       0   \n",
       "1      Old Kent Road  Brown         0.02        60         50           10   \n",
       "2  Community Chest 1                0.02         0                       0   \n",
       "3   Whitechapel Road  Brown         0.02        60         50           20   \n",
       "4         Income Tax                0.02         0                       0   \n",
       "\n",
       "   rent_2house  rent_3house  rent_4house  rent_5house  ROI_1house  ROI_2house  \\\n",
       "0            0            0            0            0        0.00        0.00   \n",
       "1           30           90          160          250        0.00        0.00   \n",
       "2            0            0            0            0        0.00        0.00   \n",
       "3           60          180          320          450        0.00        0.00   \n",
       "4            0            0            0            0        0.00        0.00   \n",
       "\n",
       "   ROI_3house  ROI_4house  ROI_5house  \n",
       "0        0.00        0.00        0.00  \n",
       "1        0.00        0.00        0.00  \n",
       "2        0.00        0.00        0.00  \n",
       "3        0.00        0.00        0.00  \n",
       "4        0.00        0.00        0.00  "
      ]
     },
     "execution_count": 178,
     "metadata": {},
     "output_type": "execute_result"
    }
   ],
   "source": [
    "for j in range(1,6):\n",
    "    for i in range(len(monopoly_rents)):\n",
    "        monopoly_economy['rent_%dhouse'%(j)][monopoly_economy.Label==monopoly_rents.Property[i]]=monopoly_rents['rent_%dhouse'%\n",
    "                                                                                                                (j)][i]\n",
    "monopoly_economy.head()"
   ]
  },
  {
   "cell_type": "markdown",
   "metadata": {},
   "source": [
    "Now that we have the costs of setting up each number of houses on a square, the associated rents and the probability of a player landing on that square, we can then calculate the expected ROIs for each square using the below function."
   ]
  },
  {
   "cell_type": "code",
   "execution_count": 179,
   "metadata": {},
   "outputs": [],
   "source": [
    "def ROI(probability,n_goes,purchase,House_cost,no_houses,rent):\n",
    "    cost=purchase+(House_cost*no_houses)\n",
    "    income=rent*probability*n_goes\n",
    "    ROI = income/cost\n",
    "    ROI = ROI*100\n",
    "    return ROI"
   ]
  },
  {
   "cell_type": "code",
   "execution_count": 180,
   "metadata": {},
   "outputs": [],
   "source": [
    "n_goes=40\n",
    "for i in range(len(monopoly_economy)):\n",
    "    if monopoly_economy.rent_1house[i]>0:\n",
    "        for j in range(1,6):\n",
    "            monopoly_economy['ROI_%dhouse'%(j)][i]=ROI(monopoly_economy.Probability[i],n_goes,monopoly_economy.Purchase[i],\n",
    "                                                       monopoly_economy.House_cost[i],j,monopoly_economy['rent_%dhouse'%(j)][i])\n",
    "    else:\n",
    "        pass"
   ]
  },
  {
   "cell_type": "code",
   "execution_count": 181,
   "metadata": {},
   "outputs": [
    {
     "data": {
      "text/html": [
       "<div>\n",
       "<style scoped>\n",
       "    .dataframe tbody tr th:only-of-type {\n",
       "        vertical-align: middle;\n",
       "    }\n",
       "\n",
       "    .dataframe tbody tr th {\n",
       "        vertical-align: top;\n",
       "    }\n",
       "\n",
       "    .dataframe thead th {\n",
       "        text-align: right;\n",
       "    }\n",
       "</style>\n",
       "<table border=\"1\" class=\"dataframe\">\n",
       "  <thead>\n",
       "    <tr style=\"text-align: right;\">\n",
       "      <th></th>\n",
       "      <th>Label</th>\n",
       "      <th>Colour</th>\n",
       "      <th>Probability</th>\n",
       "      <th>Purchase</th>\n",
       "      <th>House_cost</th>\n",
       "      <th>rent_1house</th>\n",
       "      <th>rent_2house</th>\n",
       "      <th>rent_3house</th>\n",
       "      <th>rent_4house</th>\n",
       "      <th>rent_5house</th>\n",
       "      <th>ROI_1house</th>\n",
       "      <th>ROI_2house</th>\n",
       "      <th>ROI_3house</th>\n",
       "      <th>ROI_4house</th>\n",
       "      <th>ROI_5house</th>\n",
       "    </tr>\n",
       "  </thead>\n",
       "  <tbody>\n",
       "    <tr>\n",
       "      <th>0</th>\n",
       "      <td>Go</td>\n",
       "      <td></td>\n",
       "      <td>0.03</td>\n",
       "      <td>0</td>\n",
       "      <td></td>\n",
       "      <td>0</td>\n",
       "      <td>0</td>\n",
       "      <td>0</td>\n",
       "      <td>0</td>\n",
       "      <td>0</td>\n",
       "      <td>0.00</td>\n",
       "      <td>0.00</td>\n",
       "      <td>0.00</td>\n",
       "      <td>0.00</td>\n",
       "      <td>0.00</td>\n",
       "    </tr>\n",
       "    <tr>\n",
       "      <th>1</th>\n",
       "      <td>Old Kent Road</td>\n",
       "      <td>Brown</td>\n",
       "      <td>0.02</td>\n",
       "      <td>60</td>\n",
       "      <td>50</td>\n",
       "      <td>10</td>\n",
       "      <td>30</td>\n",
       "      <td>90</td>\n",
       "      <td>160</td>\n",
       "      <td>250</td>\n",
       "      <td>6.27</td>\n",
       "      <td>12.92</td>\n",
       "      <td>29.54</td>\n",
       "      <td>42.41</td>\n",
       "      <td>55.58</td>\n",
       "    </tr>\n",
       "    <tr>\n",
       "      <th>2</th>\n",
       "      <td>Community Chest 1</td>\n",
       "      <td></td>\n",
       "      <td>0.02</td>\n",
       "      <td>0</td>\n",
       "      <td></td>\n",
       "      <td>0</td>\n",
       "      <td>0</td>\n",
       "      <td>0</td>\n",
       "      <td>0</td>\n",
       "      <td>0</td>\n",
       "      <td>0.00</td>\n",
       "      <td>0.00</td>\n",
       "      <td>0.00</td>\n",
       "      <td>0.00</td>\n",
       "      <td>0.00</td>\n",
       "    </tr>\n",
       "    <tr>\n",
       "      <th>3</th>\n",
       "      <td>Whitechapel Road</td>\n",
       "      <td>Brown</td>\n",
       "      <td>0.02</td>\n",
       "      <td>60</td>\n",
       "      <td>50</td>\n",
       "      <td>20</td>\n",
       "      <td>60</td>\n",
       "      <td>180</td>\n",
       "      <td>320</td>\n",
       "      <td>450</td>\n",
       "      <td>13.97</td>\n",
       "      <td>28.82</td>\n",
       "      <td>65.87</td>\n",
       "      <td>94.58</td>\n",
       "      <td>111.55</td>\n",
       "    </tr>\n",
       "    <tr>\n",
       "      <th>4</th>\n",
       "      <td>Income Tax</td>\n",
       "      <td></td>\n",
       "      <td>0.02</td>\n",
       "      <td>0</td>\n",
       "      <td></td>\n",
       "      <td>0</td>\n",
       "      <td>0</td>\n",
       "      <td>0</td>\n",
       "      <td>0</td>\n",
       "      <td>0</td>\n",
       "      <td>0.00</td>\n",
       "      <td>0.00</td>\n",
       "      <td>0.00</td>\n",
       "      <td>0.00</td>\n",
       "      <td>0.00</td>\n",
       "    </tr>\n",
       "  </tbody>\n",
       "</table>\n",
       "</div>"
      ],
      "text/plain": [
       "               Label Colour  Probability  Purchase House_cost  rent_1house  \\\n",
       "0                 Go                0.03         0                       0   \n",
       "1      Old Kent Road  Brown         0.02        60         50           10   \n",
       "2  Community Chest 1                0.02         0                       0   \n",
       "3   Whitechapel Road  Brown         0.02        60         50           20   \n",
       "4         Income Tax                0.02         0                       0   \n",
       "\n",
       "   rent_2house  rent_3house  rent_4house  rent_5house  ROI_1house  ROI_2house  \\\n",
       "0            0            0            0            0        0.00        0.00   \n",
       "1           30           90          160          250        6.27       12.92   \n",
       "2            0            0            0            0        0.00        0.00   \n",
       "3           60          180          320          450       13.97       28.82   \n",
       "4            0            0            0            0        0.00        0.00   \n",
       "\n",
       "   ROI_3house  ROI_4house  ROI_5house  \n",
       "0        0.00        0.00        0.00  \n",
       "1       29.54       42.41       55.58  \n",
       "2        0.00        0.00        0.00  \n",
       "3       65.87       94.58      111.55  \n",
       "4        0.00        0.00        0.00  "
      ]
     },
     "execution_count": 181,
     "metadata": {},
     "output_type": "execute_result"
    }
   ],
   "source": [
    "pd.options.display.float_format = \"{:,.2f}\".format\n",
    "monopoly_economy.head()"
   ]
  },
  {
   "cell_type": "markdown",
   "metadata": {},
   "source": [
    "##### Now that we have the expected ROIs, graph them up:"
   ]
  },
  {
   "cell_type": "code",
   "execution_count": 182,
   "metadata": {},
   "outputs": [
    {
     "data": {
      "image/png": "[encoded data removed]",
      "text/plain": [
       "<Figure size 432x288 with 1 Axes>"
      ]
     },
     "metadata": {
      "needs_background": "light"
     },
     "output_type": "display_data"
    }
   ],
   "source": [
    "plt.style.use('seaborn-pastel')\n",
    "plt.bar(monopoly_economy.index,monopoly_economy.ROI_5house,label='Hotel')\n",
    "plt.bar(monopoly_economy.index,monopoly_economy.ROI_4house,label='4 houses')\n",
    "plt.bar(monopoly_economy.index,monopoly_economy.ROI_3house,label='3 houses')\n",
    "plt.bar(monopoly_economy.index,monopoly_economy.ROI_2house,label='2 houses')\n",
    "plt.bar(monopoly_economy.index,monopoly_economy.ROI_1house,label='1 house')\n",
    "plt.xticks(np.arange(0,nsquares+1, 2.0))\n",
    "plt.xlabel('Monopoly board square')\n",
    "plt.ylabel('Expected return on investment (%)')\n",
    "plt.title('Expected ROI for properties and house(s) after '+n_games_string+' games of %d goes'%(n_goes),size=14)\n",
    "#leg=plt.legend(loc='upper right', fontsize=9, ncol=int(threshold_max/step))\n",
    "leg=plt.legend(loc='best',fontsize=9,ncol=1)"
   ]
  },
  {
   "cell_type": "markdown",
   "metadata": {},
   "source": [
    "### This is not how Monopoly works, however. \n",
    "To build a house, one needs to own all of the squares within a colour. There is then the 'equal build' principle which means that across squares within a colour, one must build to the same level. Therefore, ranking expected ROIs by colour for given levels of build across all 2 - 3 squares  would be more relevant. "
   ]
  },
  {
   "cell_type": "code",
   "execution_count": 183,
   "metadata": {},
   "outputs": [],
   "source": [
    "def ROI_colour(colour,n_houses,n_goes):#n_houses set to 5 if hotel\n",
    "    cost=0\n",
    "    house_cost=0\n",
    "    income=0\n",
    "    house_cost=n_houses*sum(monopoly_economy.House_cost[monopoly_economy.Colour==colour])\n",
    "    for i in range(len(monopoly_economy)):\n",
    "        if monopoly_economy.Colour[i]==colour:\n",
    "            cost+=monopoly_economy.Purchase[i]\n",
    "        else:\n",
    "            pass\n",
    "    total_cost=cost+house_cost\n",
    "    for j in range(1,6):\n",
    "        if n_houses==j:\n",
    "            for i in range(len(monopoly_economy)):\n",
    "                if monopoly_economy.Colour[i]==colour:\n",
    "                    income+=n_goes*monopoly_economy.Probability[i]*monopoly_economy['rent_%dhouse'%(j)][i]\n",
    "                else:\n",
    "                    pass    \n",
    "    ROI = income/total_cost\n",
    "    ROI=ROI*100\n",
    "    return ROI"
   ]
  },
  {
   "cell_type": "code",
   "execution_count": 184,
   "metadata": {},
   "outputs": [],
   "source": [
    "colours=[]\n",
    "for i in range(len(monopoly_economy)):\n",
    "    if monopoly_economy.Colour[i] ==\"\":\n",
    "        pass\n",
    "    elif monopoly_economy.Colour[i] not in colours:\n",
    "        colours.append(monopoly_economy.Colour[i])\n",
    "colours_ROI=pd.DataFrame(index=colours)\n",
    "colourcolumns=['colourROI_1','colourROI_2','colourROI_3','colourROI_4','colourROI_5']\n",
    "for i in colourcolumns:\n",
    "    colours_ROI[i]=0.0\n",
    "    monopoly_economy[i]=0.0\n",
    "for j in range(1,6):\n",
    "    for i in range(len(colours_ROI)):\n",
    "        colours_ROI['colourROI_%d'%(j)][i]=ROI_colour(colours_ROI.index[i],j,n_goes)\n",
    "for i in range(len(monopoly_economy)):\n",
    "    for j in range(len(colours_ROI)):\n",
    "        for k in range(1,6):\n",
    "            if monopoly_economy.Colour[i]==colours_ROI.index[j]:\n",
    "                monopoly_economy['colourROI_%d'%(k)][i]=colours_ROI['colourROI_%d'%(k)][j]"
   ]
  },
  {
   "cell_type": "code",
   "execution_count": 185,
   "metadata": {},
   "outputs": [
    {
     "data": {
      "image/png": "[encoded data removed]",
      "text/plain": [
       "<Figure size 432x288 with 1 Axes>"
      ]
     },
     "metadata": {
      "needs_background": "light"
     },
     "output_type": "display_data"
    }
   ],
   "source": [
    "plt.style.use('seaborn-pastel')\n",
    "plt.bar(monopoly_economy.index,monopoly_economy.colourROI_5,label='Hotel')\n",
    "plt.bar(monopoly_economy.index,monopoly_economy.colourROI_4,label='4 houses')\n",
    "plt.bar(monopoly_economy.index,monopoly_economy.colourROI_3,label='3 houses')\n",
    "plt.bar(monopoly_economy.index,monopoly_economy.colourROI_2,label='2 houses')\n",
    "plt.bar(monopoly_economy.index,monopoly_economy.colourROI_1,label='1 house')\n",
    "plt.xticks(np.arange(0,nsquares+1, 2.0))\n",
    "plt.xlabel('Monopoly board square')\n",
    "plt.ylabel('Expected return on investment (%)')\n",
    "plt.title('Expected ROI for properties and house(s) after '+n_games_string+' games of %d goes'%(n_goes),size=14)\n",
    "leg=plt.legend(loc='upper left',fontsize=9,ncol=1)"
   ]
  },
  {
   "cell_type": "code",
   "execution_count": 186,
   "metadata": {},
   "outputs": [
    {
     "data": {
      "text/plain": [
       "Text(0.5, 1.0, 'Expected ROI for groups of properties with hotels after 1,000,000 games of 40 goes')"
      ]
     },
     "execution_count": 186,
     "metadata": {},
     "output_type": "execute_result"
    },
    {
     "data": {
      "image/png": "[encoded data removed]",
      "text/plain": [
       "<Figure size 432x288 with 1 Axes>"
      ]
     },
     "metadata": {
      "needs_background": "light"
     },
     "output_type": "display_data"
    }
   ],
   "source": [
    "plt.style.use('seaborn-pastel')\n",
    "plt.bar(brown,monopoly_economy.colourROI_5[brown],color='brown')\n",
    "plt.bar(lightblue,monopoly_economy.colourROI_5[lightblue],color='cyan')\n",
    "plt.bar(pink,monopoly_economy.colourROI_5[pink],color='pink')\n",
    "plt.bar(orange,monopoly_economy.colourROI_5[orange],color='orange')\n",
    "plt.bar(red,monopoly_economy.colourROI_5[red],color='red')\n",
    "plt.bar(yellow,monopoly_economy.colourROI_5[yellow],color='yellow')\n",
    "plt.bar(green,monopoly_economy.colourROI_5[green],color='green')\n",
    "plt.bar(darkblue,monopoly_economy.colourROI_5[darkblue],color='blue')\n",
    "plt.xticks(np.arange(0,nsquares+1, 2.0))\n",
    "plt.xlabel('Monopoly board square')\n",
    "plt.ylabel('Expected return on investment (%)')\n",
    "plt.title('Expected ROI for groups of properties with hotels after '+n_games_string+' games of %d goes'%(n_goes),size=14)"
   ]
  },
  {
   "cell_type": "markdown",
   "metadata": {},
   "source": [
    "For reference, table of ROIs and corresponding squares:"
   ]
  },
  {
   "cell_type": "code",
   "execution_count": 197,
   "metadata": {},
   "outputs": [
    {
     "data": {
      "text/html": [
       "<div>\n",
       "<style scoped>\n",
       "    .dataframe tbody tr th:only-of-type {\n",
       "        vertical-align: middle;\n",
       "    }\n",
       "\n",
       "    .dataframe tbody tr th {\n",
       "        vertical-align: top;\n",
       "    }\n",
       "\n",
       "    .dataframe thead th {\n",
       "        text-align: right;\n",
       "    }\n",
       "</style>\n",
       "<table border=\"1\" class=\"dataframe\">\n",
       "  <thead>\n",
       "    <tr style=\"text-align: right;\">\n",
       "      <th></th>\n",
       "      <th>Label</th>\n",
       "      <th>Colour</th>\n",
       "      <th>ROI_5house</th>\n",
       "      <th>colourROI_5</th>\n",
       "    </tr>\n",
       "  </thead>\n",
       "  <tbody>\n",
       "    <tr>\n",
       "      <th>1</th>\n",
       "      <td>Old Kent Road</td>\n",
       "      <td>Brown</td>\n",
       "      <td>55.58</td>\n",
       "      <td>83.57</td>\n",
       "    </tr>\n",
       "    <tr>\n",
       "      <th>3</th>\n",
       "      <td>Whitechapel Road</td>\n",
       "      <td>Brown</td>\n",
       "      <td>111.55</td>\n",
       "      <td>83.57</td>\n",
       "    </tr>\n",
       "    <tr>\n",
       "      <th>6</th>\n",
       "      <td>The Angel Islington</td>\n",
       "      <td>Light blue</td>\n",
       "      <td>137.39</td>\n",
       "      <td>140.60</td>\n",
       "    </tr>\n",
       "    <tr>\n",
       "      <th>8</th>\n",
       "      <td>Euston Road</td>\n",
       "      <td>Light blue</td>\n",
       "      <td>139.70</td>\n",
       "      <td>140.60</td>\n",
       "    </tr>\n",
       "    <tr>\n",
       "      <th>9</th>\n",
       "      <td>Pentonville Road</td>\n",
       "      <td>Light blue</td>\n",
       "      <td>144.50</td>\n",
       "      <td>140.60</td>\n",
       "    </tr>\n",
       "    <tr>\n",
       "      <th>11</th>\n",
       "      <td>Pall Mall</td>\n",
       "      <td>Pink</td>\n",
       "      <td>122.06</td>\n",
       "      <td>115.79</td>\n",
       "    </tr>\n",
       "    <tr>\n",
       "      <th>13</th>\n",
       "      <td>Whitehall</td>\n",
       "      <td>Pink</td>\n",
       "      <td>96.05</td>\n",
       "      <td>115.79</td>\n",
       "    </tr>\n",
       "    <tr>\n",
       "      <th>14</th>\n",
       "      <td>Northumberland Avenue</td>\n",
       "      <td>Pink</td>\n",
       "      <td>128.84</td>\n",
       "      <td>115.79</td>\n",
       "    </tr>\n",
       "    <tr>\n",
       "      <th>16</th>\n",
       "      <td>Bow Street</td>\n",
       "      <td>Orange</td>\n",
       "      <td>143.51</td>\n",
       "      <td>147.84</td>\n",
       "    </tr>\n",
       "    <tr>\n",
       "      <th>18</th>\n",
       "      <td>Marlborough Street</td>\n",
       "      <td>Orange</td>\n",
       "      <td>149.68</td>\n",
       "      <td>147.84</td>\n",
       "    </tr>\n",
       "    <tr>\n",
       "      <th>19</th>\n",
       "      <td>Vine Street</td>\n",
       "      <td>Orange</td>\n",
       "      <td>150.25</td>\n",
       "      <td>147.84</td>\n",
       "    </tr>\n",
       "    <tr>\n",
       "      <th>21</th>\n",
       "      <td>The Strand</td>\n",
       "      <td>Red</td>\n",
       "      <td>102.29</td>\n",
       "      <td>109.35</td>\n",
       "    </tr>\n",
       "    <tr>\n",
       "      <th>23</th>\n",
       "      <td>Fleet Street</td>\n",
       "      <td>Red</td>\n",
       "      <td>99.86</td>\n",
       "      <td>109.35</td>\n",
       "    </tr>\n",
       "    <tr>\n",
       "      <th>24</th>\n",
       "      <td>Trafalgar Square</td>\n",
       "      <td>Red</td>\n",
       "      <td>125.56</td>\n",
       "      <td>109.35</td>\n",
       "    </tr>\n",
       "    <tr>\n",
       "      <th>26</th>\n",
       "      <td>Leicester Square</td>\n",
       "      <td>Yellow</td>\n",
       "      <td>103.92</td>\n",
       "      <td>102.61</td>\n",
       "    </tr>\n",
       "    <tr>\n",
       "      <th>27</th>\n",
       "      <td>Coventry Street</td>\n",
       "      <td>Yellow</td>\n",
       "      <td>102.41</td>\n",
       "      <td>102.61</td>\n",
       "    </tr>\n",
       "    <tr>\n",
       "      <th>29</th>\n",
       "      <td>Piccadilly</td>\n",
       "      <td>Yellow</td>\n",
       "      <td>101.51</td>\n",
       "      <td>102.61</td>\n",
       "    </tr>\n",
       "    <tr>\n",
       "      <th>31</th>\n",
       "      <td>Regent Street</td>\n",
       "      <td>Green</td>\n",
       "      <td>86.38</td>\n",
       "      <td>87.34</td>\n",
       "    </tr>\n",
       "    <tr>\n",
       "      <th>32</th>\n",
       "      <td>Oxford Street</td>\n",
       "      <td>Green</td>\n",
       "      <td>86.71</td>\n",
       "      <td>87.34</td>\n",
       "    </tr>\n",
       "    <tr>\n",
       "      <th>34</th>\n",
       "      <td>Bond Street</td>\n",
       "      <td>Green</td>\n",
       "      <td>88.90</td>\n",
       "      <td>87.34</td>\n",
       "    </tr>\n",
       "    <tr>\n",
       "      <th>37</th>\n",
       "      <td>Park Lane</td>\n",
       "      <td>Dark blue</td>\n",
       "      <td>78.29</td>\n",
       "      <td>104.83</td>\n",
       "    </tr>\n",
       "    <tr>\n",
       "      <th>39</th>\n",
       "      <td>Mayfair</td>\n",
       "      <td>Dark blue</td>\n",
       "      <td>130.43</td>\n",
       "      <td>104.83</td>\n",
       "    </tr>\n",
       "  </tbody>\n",
       "</table>\n",
       "</div>"
      ],
      "text/plain": [
       "                    Label      Colour  ROI_5house  colourROI_5\n",
       "1           Old Kent Road       Brown       55.58        83.57\n",
       "3        Whitechapel Road       Brown      111.55        83.57\n",
       "6     The Angel Islington  Light blue      137.39       140.60\n",
       "8             Euston Road  Light blue      139.70       140.60\n",
       "9        Pentonville Road  Light blue      144.50       140.60\n",
       "11              Pall Mall        Pink      122.06       115.79\n",
       "13              Whitehall        Pink       96.05       115.79\n",
       "14  Northumberland Avenue        Pink      128.84       115.79\n",
       "16             Bow Street      Orange      143.51       147.84\n",
       "18     Marlborough Street      Orange      149.68       147.84\n",
       "19            Vine Street      Orange      150.25       147.84\n",
       "21             The Strand         Red      102.29       109.35\n",
       "23           Fleet Street         Red       99.86       109.35\n",
       "24       Trafalgar Square         Red      125.56       109.35\n",
       "26       Leicester Square      Yellow      103.92       102.61\n",
       "27        Coventry Street      Yellow      102.41       102.61\n",
       "29             Piccadilly      Yellow      101.51       102.61\n",
       "31          Regent Street       Green       86.38        87.34\n",
       "32          Oxford Street       Green       86.71        87.34\n",
       "34            Bond Street       Green       88.90        87.34\n",
       "37              Park Lane   Dark blue       78.29       104.83\n",
       "39                Mayfair   Dark blue      130.43       104.83"
      ]
     },
     "execution_count": 197,
     "metadata": {},
     "output_type": "execute_result"
    }
   ],
   "source": [
    "monopoly_economy[['Label','Colour','ROI_5house','colourROI_5']][monopoly_economy.Colour!=\"\"]"
   ]
  },
  {
   "cell_type": "markdown",
   "metadata": {},
   "source": [
    "# Conclusion\n",
    "After all this excitement, I can conclude that:\n",
    "\n",
    "==> Vine Street and Marlborough Street have the highest ROI when building a hotel on an individual basis\n",
    "\n",
    "==> **The 'organge' squares have the highest expected ROI on a group basis (the more pertinent result)**\n",
    "\n",
    "Referring back to the first chart I plot of the distribution of just two dice, this result makes sense - given that jail becomes the most common 'starting' point during a game, the squares that lie in the highest points of the distribution of two dice would be expected to be the most commonly landed on (compared to other property squares).\n",
    "\n",
    "Whilst this simulation is pretty close to a 'true' game, it could be extended by:\n",
    "\n",
    "=> Modelling the utilities *(the ammount a player pays the owner varies with number owned and the dice roll, which adds another layer)*\n",
    "\n",
    "=> Get out of jail cards and money-based cards *(one could try to have a wallet for the player and model ability to buy the houses - I assume that a player can buy a house that they land on - this gets incredibly complicated quite fast as there are then 'tactics' of whether or not to buy a house when landing on it, etc. ...*"
   ]
  }
 ],
 "metadata": {
  "kernelspec": {
   "display_name": "Python 3",
   "language": "python",
   "name": "python3"
  },
  "language_info": {
   "codemirror_mode": {
    "name": "ipython",
    "version": 3
   },
   "file_extension": ".py",
   "mimetype": "text/x-python",
   "name": "python",
   "nbconvert_exporter": "python",
   "pygments_lexer": "ipython3",
   "version": "3.8.5"
  }
 },
 "nbformat": 4,
 "nbformat_minor": 4
}
